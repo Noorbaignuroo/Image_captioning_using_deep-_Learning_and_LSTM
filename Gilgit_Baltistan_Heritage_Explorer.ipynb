{
  "cells": [
    {
      "cell_type": "markdown",
      "metadata": {
        "id": "view-in-github",
        "colab_type": "text"
      },
      "source": [
        "<a href=\"https://colab.research.google.com/github/Noorbaignuroo/Image_captioning_using_deep-_Learning_and_LSTM/blob/main/Gilgit_Baltistan_Heritage_Explorer.ipynb\" target=\"_parent\"><img src=\"https://colab.research.google.com/assets/colab-badge.svg\" alt=\"Open In Colab\"/></a>"
      ]
    },
    {
      "cell_type": "markdown",
      "metadata": {
        "id": "ROQ63J0_MVkp"
      },
      "source": [
        "**Mounting Google Drive in Google Colab:**"
      ]
    },
    {
      "cell_type": "code",
      "execution_count": null,
      "metadata": {
        "colab": {
          "base_uri": "https://localhost:8080/"
        },
        "id": "DxGhU0K0Ezhy",
        "outputId": "475fa911-c674-484f-b1bc-edb5819c8f8b"
      },
      "outputs": [
        {
          "output_type": "stream",
          "name": "stdout",
          "text": [
            "Drive already mounted at /content/drive; to attempt to forcibly remount, call drive.mount(\"/content/drive\", force_remount=True).\n"
          ]
        }
      ],
      "source": [
        "from google.colab import drive\n",
        "drive.mount('/content/drive')\n"
      ]
    },
    {
      "cell_type": "markdown",
      "metadata": {
        "id": "tpPRY8BdOJpm"
      },
      "source": [
        "**Accessing Data:**\n",
        "Once Google Drive is mounted, you can access your uploaded folders and files from the '/content/drive/' directory."
      ]
    },
    {
      "cell_type": "code",
      "execution_count": null,
      "metadata": {
        "id": "kFAyrRrSLVAp"
      },
      "outputs": [],
      "source": [
        "images_dir = '/content/drive/MyDrive/gb_historical_sites/Images'\n",
        "captions_file = '/content/drive/MyDrive/gb_historical_sites/Captions.txt'\n"
      ]
    },
    {
      "cell_type": "markdown",
      "metadata": {
        "id": "y8zcuo_1OcS3"
      },
      "source": [
        "**Read Context Data:**\n",
        "\n",
        "To read the image names and captions from the \"context.txt\" file, you can use standard Python file I/O operations."
      ]
    },
    {
      "cell_type": "code",
      "execution_count": null,
      "metadata": {
        "id": "HbZkAJ02MGTW"
      },
      "outputs": [],
      "source": [
        "\n",
        "# Read data from the context.txt file\n",
        "with open(captions_file, 'r') as file:\n",
        "    captions_data = file.readlines()\n",
        "\n",
        "# Process context_data to extract image names and captions\n",
        "# Now you can work with the data in context_data\n"
      ]
    },
    {
      "cell_type": "markdown",
      "metadata": {
        "id": "KupC_annPF5q"
      },
      "source": [
        "**Import Modules:**"
      ]
    },
    {
      "cell_type": "code",
      "execution_count": null,
      "metadata": {
        "id": "F_ZBMidRMNXw"
      },
      "outputs": [],
      "source": [
        "import os\n",
        "import pickle\n",
        "import numpy as np\n",
        "from tqdm.notebook import tqdm\n",
        "\n",
        "from tensorflow.keras.applications.vgg16 import VGG16, preprocess_input\n",
        "from tensorflow.keras.preprocessing.image import load_img, img_to_array\n",
        "from tensorflow.keras.preprocessing.text import Tokenizer\n",
        "from tensorflow.keras.preprocessing.sequence import pad_sequences\n",
        "from tensorflow.keras.models import Model\n",
        "from tensorflow.keras.utils import to_categorical, plot_model\n",
        "from tensorflow.keras.layers import Input, Dense, LSTM, Embedding, Dropout, add\n"
      ]
    },
    {
      "cell_type": "code",
      "execution_count": null,
      "metadata": {
        "id": "FBjDBNmeSf_6"
      },
      "outputs": [],
      "source": [
        "BASE_DIR = '/content/drive/MyDrive/gb_historical_sites/Images'\n",
        "WORKING_DIR = '/gb_historical_sites/working'\n"
      ]
    },
    {
      "cell_type": "markdown",
      "metadata": {
        "id": "_CG25k3xTyn8"
      },
      "source": [
        "**Extract Image Features:**"
      ]
    },
    {
      "cell_type": "code",
      "execution_count": null,
      "metadata": {
        "colab": {
          "base_uri": "https://localhost:8080/"
        },
        "id": "D7LDekUCTvzi",
        "outputId": "dff2aa05-5ee7-48c5-ac2e-5a90b60050e1"
      },
      "outputs": [
        {
          "output_type": "stream",
          "name": "stdout",
          "text": [
            "Downloading data from https://storage.googleapis.com/tensorflow/keras-applications/vgg16/vgg16_weights_tf_dim_ordering_tf_kernels.h5\n",
            "553467096/553467096 [==============================] - 4s 0us/step\n",
            "Model: \"model\"\n",
            "_________________________________________________________________\n",
            " Layer (type)                Output Shape              Param #   \n",
            "=================================================================\n",
            " input_1 (InputLayer)        [(None, 224, 224, 3)]     0         \n",
            "                                                                 \n",
            " block1_conv1 (Conv2D)       (None, 224, 224, 64)      1792      \n",
            "                                                                 \n",
            " block1_conv2 (Conv2D)       (None, 224, 224, 64)      36928     \n",
            "                                                                 \n",
            " block1_pool (MaxPooling2D)  (None, 112, 112, 64)      0         \n",
            "                                                                 \n",
            " block2_conv1 (Conv2D)       (None, 112, 112, 128)     73856     \n",
            "                                                                 \n",
            " block2_conv2 (Conv2D)       (None, 112, 112, 128)     147584    \n",
            "                                                                 \n",
            " block2_pool (MaxPooling2D)  (None, 56, 56, 128)       0         \n",
            "                                                                 \n",
            " block3_conv1 (Conv2D)       (None, 56, 56, 256)       295168    \n",
            "                                                                 \n",
            " block3_conv2 (Conv2D)       (None, 56, 56, 256)       590080    \n",
            "                                                                 \n",
            " block3_conv3 (Conv2D)       (None, 56, 56, 256)       590080    \n",
            "                                                                 \n",
            " block3_pool (MaxPooling2D)  (None, 28, 28, 256)       0         \n",
            "                                                                 \n",
            " block4_conv1 (Conv2D)       (None, 28, 28, 512)       1180160   \n",
            "                                                                 \n",
            " block4_conv2 (Conv2D)       (None, 28, 28, 512)       2359808   \n",
            "                                                                 \n",
            " block4_conv3 (Conv2D)       (None, 28, 28, 512)       2359808   \n",
            "                                                                 \n",
            " block4_pool (MaxPooling2D)  (None, 14, 14, 512)       0         \n",
            "                                                                 \n",
            " block5_conv1 (Conv2D)       (None, 14, 14, 512)       2359808   \n",
            "                                                                 \n",
            " block5_conv2 (Conv2D)       (None, 14, 14, 512)       2359808   \n",
            "                                                                 \n",
            " block5_conv3 (Conv2D)       (None, 14, 14, 512)       2359808   \n",
            "                                                                 \n",
            " block5_pool (MaxPooling2D)  (None, 7, 7, 512)         0         \n",
            "                                                                 \n",
            " flatten (Flatten)           (None, 25088)             0         \n",
            "                                                                 \n",
            " fc1 (Dense)                 (None, 4096)              102764544 \n",
            "                                                                 \n",
            " fc2 (Dense)                 (None, 4096)              16781312  \n",
            "                                                                 \n",
            "=================================================================\n",
            "Total params: 134260544 (512.16 MB)\n",
            "Trainable params: 134260544 (512.16 MB)\n",
            "Non-trainable params: 0 (0.00 Byte)\n",
            "_________________________________________________________________\n",
            "None\n"
          ]
        }
      ],
      "source": [
        "#Load vgg16 model\n",
        "model = VGG16()\n",
        "#Restructure the model\n",
        "model = Model(inputs=model.inputs, outputs=model.layers[-2].output)\n",
        "#Summarize\n",
        "print(model.summary())\n"
      ]
    },
    {
      "cell_type": "code",
      "execution_count": null,
      "metadata": {
        "colab": {
          "base_uri": "https://localhost:8080/",
          "height": 49,
          "referenced_widgets": [
            "310bd70a69f84788b0d211c27c75625e",
            "dd4897bfc4844650b04018d50e551bf4",
            "7ccb4fa9fa1b40a98a3de1febb9f7c01",
            "494f7a806cb8418b866e628c36aec199",
            "7bf08a954e124f9d8bb66b0edf9f6d89",
            "fd15b02cf45f4d8680066e14b781d6c7",
            "bfeb5712708a4c7aa0e817bc643ff291",
            "bd193b3d3194486ea0c0c18bd3147710",
            "3d40e01cdc8e424a83169a2c634f2610",
            "18dbe2e2f22340708eda89e50f3624a0",
            "496a07ab50fd43f6bc3e2eb83b5a7c89"
          ]
        },
        "id": "aOLB3nZAXh1b",
        "outputId": "aecd8c7b-882e-4fa8-a5d0-c6640249800e"
      },
      "outputs": [
        {
          "output_type": "display_data",
          "data": {
            "text/plain": [
              "  0%|          | 0/180 [00:00<?, ?it/s]"
            ],
            "application/vnd.jupyter.widget-view+json": {
              "version_major": 2,
              "version_minor": 0,
              "model_id": "310bd70a69f84788b0d211c27c75625e"
            }
          },
          "metadata": {}
        }
      ],
      "source": [
        "# Extract Features from Images:\n",
        "features = {}\n",
        "directory = BASE_DIR\n",
        "\n",
        "for img_name in tqdm(os.listdir(directory)):\n",
        "  # Load the image from file\n",
        "  img_path = os.path.join(directory, img_name)\n",
        "  image = load_img(img_path, target_size=(224, 224))\n",
        "  # Convert image pixels to numpy array\n",
        "  image = img_to_array(image)\n",
        "  # Reshape data for the model\n",
        "  image = image.reshape((1, image.shape[0], image.shape[1], image.shape[2]))\n",
        "\n",
        "  # Preprocess image for VGG\n",
        "  image = preprocess_input(image)\n",
        "  # Extract features\n",
        "  feature = model.predict(image, verbose=0)\n",
        "  # Get image ID\n",
        "  img_id = img_name.split('.')[0]  # Corrected variable name\n",
        "  # Store feature\n",
        "  features[img_id] = feature\n",
        "\n"
      ]
    },
    {
      "cell_type": "code",
      "execution_count": null,
      "metadata": {
        "id": "iwpyEDQKd5mx"
      },
      "outputs": [],
      "source": [
        "WORKING_DIR = '/content/drive/MyDrive/gb_historical_sites/working'  # Adjust the path if needed\n",
        "os.makedirs(WORKING_DIR, exist_ok=True)  # Create the directory if it doesn't exist\n",
        "WORKING_DIR = '/content/drive/MyDrive/gb_historical_sites/working'  # Adjust the path if needed\n",
        "os.makedirs(WORKING_DIR, exist_ok=True)  # Create the directory if it doesn't exist\n"
      ]
    },
    {
      "cell_type": "code",
      "execution_count": null,
      "metadata": {
        "colab": {
          "base_uri": "https://localhost:8080/"
        },
        "id": "XLVl7jMRoXMg",
        "outputId": "e33ee105-5b03-468b-e512-01c2a76fd2e5"
      },
      "outputs": [
        {
          "output_type": "stream",
          "name": "stdout",
          "text": [
            "Image features and captions have been saved to features.pkl\n"
          ]
        }
      ],
      "source": [
        "import os\n",
        "import pickle\n",
        "\n",
        "# Define the working directory path\n",
        "WORKING_DIR = '/content/drive/MyDrive/gb_historical_sites/working'\n",
        "\n",
        "# Define the pickle file path\n",
        "pickle_file_path = os.path.join(WORKING_DIR, 'features.pkl')\n",
        "\n",
        "# Check if the pickle file exists before loading it\n",
        "if os.path.exists(pickle_file_path):\n",
        "    with open(pickle_file_path, 'rb') as f:\n",
        "        features = pickle.load(f)\n",
        "else:\n",
        "    print(\"The pickle file 'feature.pkl' does not exist in the specified directory.\")\n",
        "# ... (your code for loading VGG16 model and processing images)\n",
        "\n",
        "# Create a dictionary to store both image features and captions\n",
        "data = {\n",
        "    'features': features,  # Your extracted image features\n",
        "    'captions': captions_data,  # The captions you read from the file\n",
        "}\n",
        "\n",
        "# Define the pickle file path\n",
        "pickle_file_path = os.path.join(WORKING_DIR, 'features.pkl')\n",
        "\n",
        "# Save the data dictionary to a pickle file\n",
        "with open(pickle_file_path, 'wb') as f:\n",
        "    pickle.dump(data, f)\n",
        "\n",
        "print(\"Image features and captions have been saved to features.pkl\")\n",
        "# Load image features and captions\n",
        "with open(pickle_file_path, 'rb') as f:\n",
        "    saved_data = pickle.load(f)\n",
        "\n",
        "# Access image features and captions\n",
        "features = saved_data['features']\n",
        "captions_data = saved_data['captions']\n",
        "\n"
      ]
    },
    {
      "cell_type": "code",
      "execution_count": null,
      "metadata": {
        "id": "SsRjs1wCrHlm"
      },
      "outputs": [],
      "source": [
        "import pickle\n",
        "\n",
        "# Define the features dictionary (replace with your actual feature data)\n",
        "features = {'image1': [0.1, 0.2, 0.3], 'image2': [0.4, 0.5, 0.6]}\n",
        "\n",
        "# Specify the working directory and file path\n",
        "WORKING_DIR = '/content/drive/MyDrive/gb_historical_sites/working'\n",
        "pickle_file_path = os.path.join(WORKING_DIR, 'features.pkl')\n",
        "\n",
        "# Save the features to a pickle file\n",
        "with open(pickle_file_path, 'wb') as f:\n",
        "    pickle.dump(features, f)\n",
        "import pickle\n",
        "\n",
        "# Specify the full file path\n",
        "file_path = '/content/drive/MyDrive/gb_historical_sites/working/features.pkl'\n",
        "\n",
        "# Load the features from the pickle file\n",
        "with open(file_path, 'rb') as f:\n",
        "    features = pickle.load(f)\n",
        "\n",
        "\n"
      ]
    },
    {
      "cell_type": "markdown",
      "metadata": {
        "id": "3O7YQxfGtIWf"
      },
      "source": [
        "**Load the Captions Data**"
      ]
    },
    {
      "cell_type": "code",
      "execution_count": null,
      "metadata": {
        "id": "hGrZG1Pcsx0a"
      },
      "outputs": [],
      "source": [
        "file_path = '/content/drive/MyDrive/gb_historical_sites/Captions.txt'\n",
        "\n",
        "with open(file_path, 'r') as f:\n",
        "    next(f)\n",
        "    Captions_doc = f.read()\n"
      ]
    },
    {
      "cell_type": "code",
      "execution_count": null,
      "metadata": {
        "colab": {
          "base_uri": "https://localhost:8080/",
          "height": 49,
          "referenced_widgets": [
            "a94889a278934ad48bb5c4b070e9a778",
            "a7b90338051d4c9f98045e91b1aaa136",
            "59a335e3f9c847b8955fd10be4304f73",
            "3eedc113c68f4cbe90fb317d8c0bb39c",
            "ac069a36e45046ff92159bc6482d7a29",
            "be94fb2e441c48f5bff6a74dc7fbfab6",
            "262cc10baf244978a9e33c67edb974d4",
            "0fcc78c48e7b45c5b01c0596f7cb5cb7",
            "6a202097cb634d2ba892eafc5207fbf5",
            "7e09b31d7cad4ec4adcf47cb20fa1dd5",
            "b28f7d92dd494f86a65ccaebb56a50ab"
          ]
        },
        "id": "L_Pkwjdyuw0a",
        "outputId": "191fcce2-6953-416b-d235-abb3b64ee005"
      },
      "outputs": [
        {
          "output_type": "display_data",
          "data": {
            "text/plain": [
              "  0%|          | 0/168 [00:00<?, ?it/s]"
            ],
            "application/vnd.jupyter.widget-view+json": {
              "version_major": 2,
              "version_minor": 0,
              "model_id": "a94889a278934ad48bb5c4b070e9a778"
            }
          },
          "metadata": {}
        }
      ],
      "source": [
        "# Create a mapping of image to captions\n",
        "mapping = {}\n",
        "\n",
        "# Process lines\n",
        "for line in tqdm(Captions_doc.split('\\n')):\n",
        "    # Split the line by comma(,)\n",
        "    tokens = line.split(',')\n",
        "\n",
        "    if len(tokens) < 2:\n",
        "        continue\n",
        "\n",
        "    image_id, caption = tokens[0], tokens[1:]\n",
        "\n",
        "    # Remove extension from Image ID\n",
        "    image_id = image_id.split('.')[0]\n",
        "\n",
        "    # Convert caption list to a string\n",
        "    caption = \" \".join(caption)\n",
        "\n",
        "    # Create a list if needed\n",
        "    if image_id not in mapping:\n",
        "        mapping[image_id] = []\n",
        "\n",
        "    # Store the caption\n",
        "    mapping[image_id].append(caption)\n",
        "\n"
      ]
    },
    {
      "cell_type": "code",
      "execution_count": null,
      "metadata": {
        "colab": {
          "base_uri": "https://localhost:8080/"
        },
        "id": "G-jMZQuwz9_b",
        "outputId": "16d019e7-19b6-44aa-a2a3-9016fd47854c"
      },
      "outputs": [
        {
          "output_type": "execute_result",
          "data": {
            "text/plain": [
              "168"
            ]
          },
          "metadata": {},
          "execution_count": 14
        }
      ],
      "source": [
        "len(mapping)"
      ]
    },
    {
      "cell_type": "markdown",
      "metadata": {
        "id": "qRnWZz6A1eBD"
      },
      "source": [
        "**Preprocess the Caption Data**\n",
        "\n",
        "\n",
        "\n"
      ]
    },
    {
      "cell_type": "code",
      "execution_count": null,
      "metadata": {
        "id": "PEIZ7YZc09ta"
      },
      "outputs": [],
      "source": [
        "def clean(mapping):\n",
        "    for key, captions in mapping.items():\n",
        "        for i in range(len(captions)):\n",
        "            # Take one caption at a time\n",
        "            caption = captions[i]  # Corrected variable name to 'caption'\n",
        "            # Preprocessing steps\n",
        "            # Convert to lowercase\n",
        "            caption = caption.lower()\n",
        "            # Delete digits, special characters, etc.\n",
        "            caption = caption.replace('[^A-Za-z]', '')\n",
        "            # Delete additional spaces\n",
        "            caption = caption.replace('\\s+', ' ')\n",
        "            # Add start and end tags to the captions\n",
        "            caption = '<start>' + \" \".join([word for word in caption.split() if len(word) > 1]) + '<end>'\n",
        "            captions[i] = caption\n"
      ]
    },
    {
      "cell_type": "code",
      "execution_count": null,
      "metadata": {
        "colab": {
          "base_uri": "https://localhost:8080/"
        },
        "id": "HJ8McOq72FBd",
        "outputId": "38747888-4589-49fe-bb31-55e0547b4946"
      },
      "outputs": [
        {
          "output_type": "execute_result",
          "data": {
            "text/plain": [
              "['<start>journey through time awaits at altit fort in hunza.<end>']"
            ]
          },
          "metadata": {},
          "execution_count": 23
        }
      ],
      "source": [
        "\n",
        "generate_caption['image12.jpg']"
      ]
    },
    {
      "cell_type": "code",
      "execution_count": null,
      "metadata": {
        "id": "yRYD7bKW6i0e"
      },
      "outputs": [],
      "source": [
        "#preprocess the text\n",
        "clean(mapping)"
      ]
    },
    {
      "cell_type": "code",
      "execution_count": null,
      "metadata": {
        "colab": {
          "base_uri": "https://localhost:8080/"
        },
        "id": "DMUubrv763Ga",
        "outputId": "b0b86981-5876-4455-b3ab-4696818bf9cd"
      },
      "outputs": [
        {
          "output_type": "execute_result",
          "data": {
            "text/plain": [
              "['<start><start>journey through time awaits at altit fort in hunza.<end><end>']"
            ]
          },
          "metadata": {},
          "execution_count": 25
        }
      ],
      "source": [
        "#After preprocess od text\n",
        "mapping['image12']"
      ]
    },
    {
      "cell_type": "code",
      "execution_count": null,
      "metadata": {
        "id": "3Mu8QspA7LD8"
      },
      "outputs": [],
      "source": [
        "all_captions = []\n",
        "for key in mapping:\n",
        "  for caption in mapping[key]:\n",
        "    all_captions.append(caption)"
      ]
    },
    {
      "cell_type": "code",
      "execution_count": null,
      "metadata": {
        "colab": {
          "base_uri": "https://localhost:8080/"
        },
        "id": "sGbvF9098us0",
        "outputId": "2f284305-fb71-416b-b50c-545c2bcb7a2e"
      },
      "outputs": [
        {
          "output_type": "execute_result",
          "data": {
            "text/plain": [
              "168"
            ]
          },
          "metadata": {},
          "execution_count": 27
        }
      ],
      "source": [
        "len(all_captions)"
      ]
    },
    {
      "cell_type": "code",
      "execution_count": null,
      "metadata": {
        "colab": {
          "base_uri": "https://localhost:8080/"
        },
        "id": "8AcVSjnJ811C",
        "outputId": "0166e107-b655-43e3-8394-b3f78fef2827"
      },
      "outputs": [
        {
          "output_type": "execute_result",
          "data": {
            "text/plain": [
              "[\"<start><start>altit fort: living testament to hunza's rich history.<end><end>\",\n",
              " '<start><start>discover the past at altit fort where ancient stories come to life.<end><end>',\n",
              " \"<start><start>step into history at altit fort treasure trove of hunza's heritage.<end><end>\",\n",
              " '<start><start>altit fort: where stones whisper tales of bygone eras.<end><end>',\n",
              " '<start><start>explore the majesty of altit fort perched amidst stunning hunza scenery.<end><end>',\n",
              " '<start><start>altit fort: where tradition and architecture harmonize beautifully.<end><end>',\n",
              " '<start><start>unlock the secrets of altit fort cultural gem in hunza valley.<end><end>',\n",
              " '<start><start>altit fort bridge between the past and the present.<end><end>',\n",
              " \"<start><start>wander through altit fort's ageless corridors and relive history.<end><end>\",\n",
              " '<start><start>altit fort: where mountains meet culture in hunza.<end><end>']"
            ]
          },
          "metadata": {},
          "execution_count": 28
        }
      ],
      "source": [
        "all_captions[:10]"
      ]
    },
    {
      "cell_type": "code",
      "execution_count": null,
      "metadata": {
        "id": "vCeBSJOP881Z"
      },
      "outputs": [],
      "source": [
        "#Tokenize the text\n",
        "tokenizer = Tokenizer()\n",
        "tokenizer.fit_on_texts(all_captions)\n",
        "vocab_size = len(tokenizer.word_index) + 1"
      ]
    },
    {
      "cell_type": "code",
      "execution_count": null,
      "metadata": {
        "colab": {
          "base_uri": "https://localhost:8080/"
        },
        "id": "LkEGSJVj92fR",
        "outputId": "5a505dfe-ec46-4e88-9927-c65159791d92"
      },
      "outputs": [
        {
          "output_type": "execute_result",
          "data": {
            "text/plain": [
              "317"
            ]
          },
          "metadata": {},
          "execution_count": 30
        }
      ],
      "source": [
        "vocab_size"
      ]
    },
    {
      "cell_type": "code",
      "execution_count": null,
      "metadata": {
        "colab": {
          "base_uri": "https://localhost:8080/"
        },
        "id": "6yQnvyYN96Fc",
        "outputId": "bb85cf74-ff81-44fa-bf0f-043fb09de6cc"
      },
      "outputs": [
        {
          "output_type": "execute_result",
          "data": {
            "text/plain": [
              "16"
            ]
          },
          "metadata": {},
          "execution_count": 31
        }
      ],
      "source": [
        "#get maximum length of the caption available\n",
        "max_length = max(len(caption.split())for caption in all_captions)\n",
        "max_length"
      ]
    },
    {
      "cell_type": "markdown",
      "metadata": {
        "id": "07Nzyy_u--TZ"
      },
      "source": [
        "**Train Test Split**"
      ]
    },
    {
      "cell_type": "code",
      "execution_count": null,
      "metadata": {
        "id": "LWHeiv7f-zUu"
      },
      "outputs": [],
      "source": [
        "image_ids = list(mapping.keys())\n",
        "split = int(len(image_ids) * 0.90)\n",
        "train = image_ids[:split]\n",
        "test = image_ids[split:]\n"
      ]
    },
    {
      "cell_type": "code",
      "execution_count": null,
      "metadata": {
        "id": "W1UVTFsP_7S5"
      },
      "outputs": [],
      "source": [
        "def data_generator(data_keys, mapping, features, tokenizer, max_length, vocab_size, batch_size):\n",
        "    # Loop over images\n",
        "    X1, X2, y = list(), list(), list()\n",
        "    n = 0\n",
        "    while 1:\n",
        "        for key in data_keys:\n",
        "            n += 1\n",
        "            captions = mapping[key]\n",
        "            # Process each caption\n",
        "            for caption in captions:\n",
        "                # Encode the sequence\n",
        "                seq = tokenizer.texts_to_sequences([caption])[0]\n",
        "                # Split the sequence into X, y pairs\n",
        "                for i in range(1, len(seq)):\n",
        "                    # Split into input and output pairs\n",
        "                    in_seq, out_seq = seq[:i], seq[i]\n",
        "                    # Pad input sequence\n",
        "                    in_seq = pad_sequences([in_seq], maxlen=max_length)[0]\n",
        "                    # Encode output sequence\n",
        "                    out_seq = to_categorical([out_seq], num_classes=vocab_size)[0]\n",
        "                    # Store the sequences\n",
        "                    X1.append(features[key][0])\n",
        "                    X2.append(in_seq)\n",
        "                    y.append(out_seq)\n",
        "        if n == batch_size:\n",
        "            X1, X2, y = np.array(X1), np.array(X2), np.array(y)\n",
        "            yield [X1, X2], y\n",
        "            X1, X2, y = list(), list(), list()\n",
        "            n = 0"
      ]
    },
    {
      "cell_type": "markdown",
      "metadata": {
        "id": "xpH1psBWDNOX"
      },
      "source": [
        "**Model Creation**"
      ]
    },
    {
      "cell_type": "code",
      "execution_count": null,
      "metadata": {
        "colab": {
          "base_uri": "https://localhost:8080/",
          "height": 754
        },
        "id": "hZD5kJ7oL-1F",
        "outputId": "307f9c4a-9766-472e-d8b3-55e751102fff"
      },
      "outputs": [
        {
          "output_type": "execute_result",
          "data": {
            "image/png": "[encoded data removed]",
            "text/plain": [
              "<IPython.core.display.Image object>"
            ]
          },
          "metadata": {},
          "execution_count": 34
        }
      ],
      "source": [
        "from tensorflow.keras.layers import Input, Dense, LSTM, Embedding, Dropout, add\n",
        "from tensorflow.keras.models import Model\n",
        "from tensorflow.keras.utils import plot_model\n",
        "\n",
        "# Define your input layers\n",
        "inputs1 = Input(shape=(4096,))\n",
        "inputs2 = Input(shape=(max_length,))\n",
        "\n",
        "# Image feature model\n",
        "fe1 = Dropout(0.4)(inputs1)\n",
        "fe2 = Dense(256, activation='relu')(fe1)\n",
        "\n",
        "# Sequence feature layers\n",
        "se1 = Embedding(vocab_size, 256, mask_zero=True)(inputs2)\n",
        "se2 = Dropout(0.4)(se1)\n",
        "se3 = LSTM(256)(se2)\n",
        "\n",
        "# Decoder model\n",
        "decoder1 = add([fe2, se3])\n",
        "decoder2 = Dense(256, activation='relu')(decoder1)\n",
        "outputs = Dense(vocab_size, activation='softmax')(decoder2)\n",
        "\n",
        "# Create the model\n",
        "model = Model(inputs=[inputs1, inputs2], outputs=outputs)\n",
        "\n",
        "# Compile the model\n",
        "model.compile(loss='categorical_crossentropy', optimizer='adam')\n",
        "\n",
        "# Plot the model\n",
        "plot_model(model, show_shapes=True)\n"
      ]
    },
    {
      "cell_type": "code",
      "execution_count": null,
      "metadata": {
        "id": "2wdkzvStWtZw",
        "colab": {
          "base_uri": "https://localhost:8080/",
          "height": 446
        },
        "outputId": "1b071201-7b9d-4eec-a82a-c096992c30fd"
      },
      "outputs": [
        {
          "output_type": "stream",
          "name": "stdout",
          "text": [
            "Sample image filenames: image\n",
            "\n",
            "Epoch 1/20\n",
            "Number of steps per epoch: 1\n"
          ]
        },
        {
          "output_type": "error",
          "ename": "FileNotFoundError",
          "evalue": "ignored",
          "traceback": [
            "\u001b[0;31m---------------------------------------------------------------------------\u001b[0m",
            "\u001b[0;31mFileNotFoundError\u001b[0m                         Traceback (most recent call last)",
            "\u001b[0;32m<ipython-input-41-0175261178ca>\u001b[0m in \u001b[0;36m<cell line: 13>\u001b[0;34m()\u001b[0m\n\u001b[1;32m     20\u001b[0m \u001b[0;34m\u001b[0m\u001b[0m\n\u001b[1;32m     21\u001b[0m     \u001b[0;31m# fit for one epoch\u001b[0m\u001b[0;34m\u001b[0m\u001b[0;34m\u001b[0m\u001b[0m\n\u001b[0;32m---> 22\u001b[0;31m     \u001b[0mmodel\u001b[0m\u001b[0;34m.\u001b[0m\u001b[0mfit\u001b[0m\u001b[0;34m(\u001b[0m\u001b[0mgenerator\u001b[0m\u001b[0;34m,\u001b[0m \u001b[0mepochs\u001b[0m\u001b[0;34m=\u001b[0m\u001b[0;36m1\u001b[0m\u001b[0;34m,\u001b[0m \u001b[0msteps_per_epoch\u001b[0m\u001b[0;34m=\u001b[0m\u001b[0msteps\u001b[0m\u001b[0;34m,\u001b[0m \u001b[0mverbose\u001b[0m\u001b[0;34m=\u001b[0m\u001b[0;36m1\u001b[0m\u001b[0;34m)\u001b[0m\u001b[0;34m\u001b[0m\u001b[0;34m\u001b[0m\u001b[0m\n\u001b[0m",
            "\u001b[0;32m/usr/local/lib/python3.10/dist-packages/keras/src/utils/traceback_utils.py\u001b[0m in \u001b[0;36merror_handler\u001b[0;34m(*args, **kwargs)\u001b[0m\n\u001b[1;32m     68\u001b[0m             \u001b[0;31m# To get the full stack trace, call:\u001b[0m\u001b[0;34m\u001b[0m\u001b[0;34m\u001b[0m\u001b[0m\n\u001b[1;32m     69\u001b[0m             \u001b[0;31m# `tf.debugging.disable_traceback_filtering()`\u001b[0m\u001b[0;34m\u001b[0m\u001b[0;34m\u001b[0m\u001b[0m\n\u001b[0;32m---> 70\u001b[0;31m             \u001b[0;32mraise\u001b[0m \u001b[0me\u001b[0m\u001b[0;34m.\u001b[0m\u001b[0mwith_traceback\u001b[0m\u001b[0;34m(\u001b[0m\u001b[0mfiltered_tb\u001b[0m\u001b[0;34m)\u001b[0m \u001b[0;32mfrom\u001b[0m \u001b[0;32mNone\u001b[0m\u001b[0;34m\u001b[0m\u001b[0;34m\u001b[0m\u001b[0m\n\u001b[0m\u001b[1;32m     71\u001b[0m         \u001b[0;32mfinally\u001b[0m\u001b[0;34m:\u001b[0m\u001b[0;34m\u001b[0m\u001b[0;34m\u001b[0m\u001b[0m\n\u001b[1;32m     72\u001b[0m             \u001b[0;32mdel\u001b[0m \u001b[0mfiltered_tb\u001b[0m\u001b[0;34m\u001b[0m\u001b[0;34m\u001b[0m\u001b[0m\n",
            "\u001b[0;32m<ipython-input-36-1abe34690429>\u001b[0m in \u001b[0;36mdata_generator\u001b[0;34m(image_filenames, captions, tokenizer, max_length, vocab_size, batch_size)\u001b[0m\n\u001b[1;32m     34\u001b[0m             \u001b[0mX1\u001b[0m\u001b[0;34m,\u001b[0m \u001b[0mX2\u001b[0m\u001b[0;34m,\u001b[0m \u001b[0my\u001b[0m \u001b[0;34m=\u001b[0m \u001b[0;34m[\u001b[0m\u001b[0;34m]\u001b[0m\u001b[0;34m,\u001b[0m \u001b[0;34m[\u001b[0m\u001b[0;34m]\u001b[0m\u001b[0;34m,\u001b[0m \u001b[0;34m[\u001b[0m\u001b[0;34m]\u001b[0m\u001b[0;34m\u001b[0m\u001b[0;34m\u001b[0m\u001b[0m\n\u001b[1;32m     35\u001b[0m             \u001b[0;32mfor\u001b[0m \u001b[0mj\u001b[0m \u001b[0;32min\u001b[0m \u001b[0mrange\u001b[0m\u001b[0;34m(\u001b[0m\u001b[0mi\u001b[0m\u001b[0;34m,\u001b[0m \u001b[0mmin\u001b[0m\u001b[0;34m(\u001b[0m\u001b[0mi\u001b[0m \u001b[0;34m+\u001b[0m \u001b[0mbatch_size\u001b[0m\u001b[0;34m,\u001b[0m \u001b[0mlen\u001b[0m\u001b[0;34m(\u001b[0m\u001b[0mimage_filenames\u001b[0m\u001b[0;34m)\u001b[0m\u001b[0;34m)\u001b[0m\u001b[0;34m)\u001b[0m\u001b[0;34m:\u001b[0m\u001b[0;34m\u001b[0m\u001b[0;34m\u001b[0m\u001b[0m\n\u001b[0;32m---> 36\u001b[0;31m                 \u001b[0mimg\u001b[0m \u001b[0;34m=\u001b[0m \u001b[0mload_img\u001b[0m\u001b[0;34m(\u001b[0m\u001b[0mimage_filenames\u001b[0m\u001b[0;34m[\u001b[0m\u001b[0mj\u001b[0m\u001b[0;34m]\u001b[0m\u001b[0;34m,\u001b[0m \u001b[0mtarget_size\u001b[0m\u001b[0;34m=\u001b[0m\u001b[0;34m(\u001b[0m\u001b[0;36m299\u001b[0m\u001b[0;34m,\u001b[0m \u001b[0;36m299\u001b[0m\u001b[0;34m)\u001b[0m\u001b[0;34m)\u001b[0m  \u001b[0;31m# Assuming images are resized to (299, 299)\u001b[0m\u001b[0;34m\u001b[0m\u001b[0;34m\u001b[0m\u001b[0m\n\u001b[0m\u001b[1;32m     37\u001b[0m                 \u001b[0mimg\u001b[0m \u001b[0;34m=\u001b[0m \u001b[0mimg_to_array\u001b[0m\u001b[0;34m(\u001b[0m\u001b[0mimg\u001b[0m\u001b[0;34m)\u001b[0m\u001b[0;34m\u001b[0m\u001b[0;34m\u001b[0m\u001b[0m\n\u001b[1;32m     38\u001b[0m                 \u001b[0mimg\u001b[0m \u001b[0;34m=\u001b[0m \u001b[0mimg\u001b[0m \u001b[0;34m/\u001b[0m \u001b[0;36m255.0\u001b[0m  \u001b[0;31m# Normalize the image\u001b[0m\u001b[0;34m\u001b[0m\u001b[0;34m\u001b[0m\u001b[0m\n",
            "\u001b[0;31mFileNotFoundError\u001b[0m: [Errno 2] No such file or directory: 'i'"
          ]
        }
      ],
      "source": [
        "# Assuming train is a tuple or list containing image_filenames and captions\n",
        "train_image_filenames = train[0]\n",
        "train_captions = train[1]\n",
        "\n",
        "# Print the first few image filenames to check their correctness\n",
        "print(\"Sample image filenames:\", train_image_filenames[:5])\n",
        "\n",
        "# Set the parameters\n",
        "epochs = 20\n",
        "batch_size = 32\n",
        "steps = max(1, len(train_image_filenames) // batch_size)  # Ensure steps_per_epoch is at least 1\n",
        "\n",
        "for i in range(epochs):\n",
        "    # create data generator\n",
        "    generator = data_generator(train_image_filenames, train_captions, tokenizer, max_length, vocab_size, batch_size)\n",
        "\n",
        "    # Print some debug information\n",
        "    print(f\"\\nEpoch {i + 1}/{epochs}\")\n",
        "    print(f\"Number of steps per epoch: {steps}\")\n",
        "\n",
        "    # fit for one epoch\n",
        "    model.fit(generator, epochs=1, steps_per_epoch=steps, verbose=1)\n"
      ]
    },
    {
      "cell_type": "code",
      "execution_count": null,
      "metadata": {
        "id": "clP9Fm_liX5M"
      },
      "outputs": [],
      "source": [
        "#Save the model\n",
        "model.save(WORKING_DIR + '/best_model.h5')"
      ]
    },
    {
      "cell_type": "markdown",
      "metadata": {
        "id": "PwYTY08YcE5I"
      },
      "source": [
        "**Generate Captions for the Image**"
      ]
    },
    {
      "cell_type": "code",
      "execution_count": null,
      "metadata": {
        "id": "o5PWBhAZb9OH"
      },
      "outputs": [],
      "source": [
        "def idx_to_word(integer, tokenizer):\n",
        "  for word, index in tokenizer.word_index.items():\n",
        "    if index == integer:\n",
        "      return word\n",
        "  return None"
      ]
    },
    {
      "cell_type": "code",
      "execution_count": null,
      "metadata": {
        "id": "yMt0Oii3dGoV"
      },
      "outputs": [],
      "source": [
        "#Generate Caption for an Image\n",
        "def predict_caption(model, image, tokenizer, max_length):\n",
        "  #Add start tag for the generation process\n",
        "  in_text = '<start>'\n",
        "  #Iterate over the max length of the sequence\n",
        "  for i in range(max_length):\n",
        "    #encode input sequence\n",
        "    sequence = tokrnizer.texts_to_sequences([in_text])[0]\n",
        "    #Pad the sequence\n",
        "    sequence = pad_sequences([sequence], max_length)[0]\n",
        "    #Predict next word\n",
        "    yhat = model.predict([image_sequence], verbose=0)\n",
        "    #Get index with high probability\n",
        "    yhat = np.argmax(yhat)\n",
        "    #Convert index to word\n",
        "    word = idx_to_word(yhat, tokenizer)\n",
        "    #Stop if word not found\n",
        "    if word is None:\n",
        "      break\n",
        "    #append word as input for generating next word\n",
        "    in_text += \" \" + word\n",
        "    #stop if we reach and tag\n",
        "    if word as end '<end>':\n",
        "      break\n",
        "    return in_text\n",
        "\n",
        "\n",
        "\n",
        "\n"
      ]
    },
    {
      "cell_type": "code",
      "execution_count": null,
      "metadata": {
        "id": "7LtmGg79hL1n"
      },
      "outputs": [],
      "source": [
        "#Validate with test data\n",
        "actual, predicted = list(), list()\n",
        "\n",
        "for key in tqdm(test):\n",
        "  #get actual caption\n",
        "  captions = mapping[key]\n",
        "  #predict the caption for image\n",
        "  y_pred = predict_caption(model, feautures[key], tokenizer, max_length)\n",
        "  #split into words\n",
        "  actual_captions = [caption,split(), for caption in captions]\n",
        "  y_pred = y_pred.split()\n",
        "  #\n"
      ]
    },
    {
      "cell_type": "code",
      "execution_count": null,
      "metadata": {
        "id": "RPemp8BchEWv"
      },
      "outputs": [],
      "source": []
    }
  ],
  "metadata": {
    "accelerator": "GPU",
    "colab": {
      "provenance": [],
      "toc_visible": true,
      "mount_file_id": "1aItnzyHq3jJqwBTHv2bCZ0oLaA9RuxYf",
      "authorship_tag": "ABX9TyNUHzXmJbqPyxTsTLLEB0+t",
      "include_colab_link": true
    },
    "kernelspec": {
      "display_name": "Python 3",
      "name": "python3"
    },
    "language_info": {
      "name": "python"
    },
    "widgets": {
      "application/vnd.jupyter.widget-state+json": {
        "310bd70a69f84788b0d211c27c75625e": {
          "model_module": "@jupyter-widgets/controls",
          "model_name": "HBoxModel",
          "model_module_version": "1.5.0",
          "state": {
            "_dom_classes": [],
            "_model_module": "@jupyter-widgets/controls",
            "_model_module_version": "1.5.0",
            "_model_name": "HBoxModel",
            "_view_count": null,
            "_view_module": "@jupyter-widgets/controls",
            "_view_module_version": "1.5.0",
            "_view_name": "HBoxView",
            "box_style": "",
            "children": [
              "IPY_MODEL_dd4897bfc4844650b04018d50e551bf4",
              "IPY_MODEL_7ccb4fa9fa1b40a98a3de1febb9f7c01",
              "IPY_MODEL_494f7a806cb8418b866e628c36aec199"
            ],
            "layout": "IPY_MODEL_7bf08a954e124f9d8bb66b0edf9f6d89"
          }
        },
        "dd4897bfc4844650b04018d50e551bf4": {
          "model_module": "@jupyter-widgets/controls",
          "model_name": "HTMLModel",
          "model_module_version": "1.5.0",
          "state": {
            "_dom_classes": [],
            "_model_module": "@jupyter-widgets/controls",
            "_model_module_version": "1.5.0",
            "_model_name": "HTMLModel",
            "_view_count": null,
            "_view_module": "@jupyter-widgets/controls",
            "_view_module_version": "1.5.0",
            "_view_name": "HTMLView",
            "description": "",
            "description_tooltip": null,
            "layout": "IPY_MODEL_fd15b02cf45f4d8680066e14b781d6c7",
            "placeholder": "​",
            "style": "IPY_MODEL_bfeb5712708a4c7aa0e817bc643ff291",
            "value": "100%"
          }
        },
        "7ccb4fa9fa1b40a98a3de1febb9f7c01": {
          "model_module": "@jupyter-widgets/controls",
          "model_name": "FloatProgressModel",
          "model_module_version": "1.5.0",
          "state": {
            "_dom_classes": [],
            "_model_module": "@jupyter-widgets/controls",
            "_model_module_version": "1.5.0",
            "_model_name": "FloatProgressModel",
            "_view_count": null,
            "_view_module": "@jupyter-widgets/controls",
            "_view_module_version": "1.5.0",
            "_view_name": "ProgressView",
            "bar_style": "success",
            "description": "",
            "description_tooltip": null,
            "layout": "IPY_MODEL_bd193b3d3194486ea0c0c18bd3147710",
            "max": 180,
            "min": 0,
            "orientation": "horizontal",
            "style": "IPY_MODEL_3d40e01cdc8e424a83169a2c634f2610",
            "value": 180
          }
        },
        "494f7a806cb8418b866e628c36aec199": {
          "model_module": "@jupyter-widgets/controls",
          "model_name": "HTMLModel",
          "model_module_version": "1.5.0",
          "state": {
            "_dom_classes": [],
            "_model_module": "@jupyter-widgets/controls",
            "_model_module_version": "1.5.0",
            "_model_name": "HTMLModel",
            "_view_count": null,
            "_view_module": "@jupyter-widgets/controls",
            "_view_module_version": "1.5.0",
            "_view_name": "HTMLView",
            "description": "",
            "description_tooltip": null,
            "layout": "IPY_MODEL_18dbe2e2f22340708eda89e50f3624a0",
            "placeholder": "​",
            "style": "IPY_MODEL_496a07ab50fd43f6bc3e2eb83b5a7c89",
            "value": " 180/180 [01:51&lt;00:00,  2.11it/s]"
          }
        },
        "7bf08a954e124f9d8bb66b0edf9f6d89": {
          "model_module": "@jupyter-widgets/base",
          "model_name": "LayoutModel",
          "model_module_version": "1.2.0",
          "state": {
            "_model_module": "@jupyter-widgets/base",
            "_model_module_version": "1.2.0",
            "_model_name": "LayoutModel",
            "_view_count": null,
            "_view_module": "@jupyter-widgets/base",
            "_view_module_version": "1.2.0",
            "_view_name": "LayoutView",
            "align_content": null,
            "align_items": null,
            "align_self": null,
            "border": null,
            "bottom": null,
            "display": null,
            "flex": null,
            "flex_flow": null,
            "grid_area": null,
            "grid_auto_columns": null,
            "grid_auto_flow": null,
            "grid_auto_rows": null,
            "grid_column": null,
            "grid_gap": null,
            "grid_row": null,
            "grid_template_areas": null,
            "grid_template_columns": null,
            "grid_template_rows": null,
            "height": null,
            "justify_content": null,
            "justify_items": null,
            "left": null,
            "margin": null,
            "max_height": null,
            "max_width": null,
            "min_height": null,
            "min_width": null,
            "object_fit": null,
            "object_position": null,
            "order": null,
            "overflow": null,
            "overflow_x": null,
            "overflow_y": null,
            "padding": null,
            "right": null,
            "top": null,
            "visibility": null,
            "width": null
          }
        },
        "fd15b02cf45f4d8680066e14b781d6c7": {
          "model_module": "@jupyter-widgets/base",
          "model_name": "LayoutModel",
          "model_module_version": "1.2.0",
          "state": {
            "_model_module": "@jupyter-widgets/base",
            "_model_module_version": "1.2.0",
            "_model_name": "LayoutModel",
            "_view_count": null,
            "_view_module": "@jupyter-widgets/base",
            "_view_module_version": "1.2.0",
            "_view_name": "LayoutView",
            "align_content": null,
            "align_items": null,
            "align_self": null,
            "border": null,
            "bottom": null,
            "display": null,
            "flex": null,
            "flex_flow": null,
            "grid_area": null,
            "grid_auto_columns": null,
            "grid_auto_flow": null,
            "grid_auto_rows": null,
            "grid_column": null,
            "grid_gap": null,
            "grid_row": null,
            "grid_template_areas": null,
            "grid_template_columns": null,
            "grid_template_rows": null,
            "height": null,
            "justify_content": null,
            "justify_items": null,
            "left": null,
            "margin": null,
            "max_height": null,
            "max_width": null,
            "min_height": null,
            "min_width": null,
            "object_fit": null,
            "object_position": null,
            "order": null,
            "overflow": null,
            "overflow_x": null,
            "overflow_y": null,
            "padding": null,
            "right": null,
            "top": null,
            "visibility": null,
            "width": null
          }
        },
        "bfeb5712708a4c7aa0e817bc643ff291": {
          "model_module": "@jupyter-widgets/controls",
          "model_name": "DescriptionStyleModel",
          "model_module_version": "1.5.0",
          "state": {
            "_model_module": "@jupyter-widgets/controls",
            "_model_module_version": "1.5.0",
            "_model_name": "DescriptionStyleModel",
            "_view_count": null,
            "_view_module": "@jupyter-widgets/base",
            "_view_module_version": "1.2.0",
            "_view_name": "StyleView",
            "description_width": ""
          }
        },
        "bd193b3d3194486ea0c0c18bd3147710": {
          "model_module": "@jupyter-widgets/base",
          "model_name": "LayoutModel",
          "model_module_version": "1.2.0",
          "state": {
            "_model_module": "@jupyter-widgets/base",
            "_model_module_version": "1.2.0",
            "_model_name": "LayoutModel",
            "_view_count": null,
            "_view_module": "@jupyter-widgets/base",
            "_view_module_version": "1.2.0",
            "_view_name": "LayoutView",
            "align_content": null,
            "align_items": null,
            "align_self": null,
            "border": null,
            "bottom": null,
            "display": null,
            "flex": null,
            "flex_flow": null,
            "grid_area": null,
            "grid_auto_columns": null,
            "grid_auto_flow": null,
            "grid_auto_rows": null,
            "grid_column": null,
            "grid_gap": null,
            "grid_row": null,
            "grid_template_areas": null,
            "grid_template_columns": null,
            "grid_template_rows": null,
            "height": null,
            "justify_content": null,
            "justify_items": null,
            "left": null,
            "margin": null,
            "max_height": null,
            "max_width": null,
            "min_height": null,
            "min_width": null,
            "object_fit": null,
            "object_position": null,
            "order": null,
            "overflow": null,
            "overflow_x": null,
            "overflow_y": null,
            "padding": null,
            "right": null,
            "top": null,
            "visibility": null,
            "width": null
          }
        },
        "3d40e01cdc8e424a83169a2c634f2610": {
          "model_module": "@jupyter-widgets/controls",
          "model_name": "ProgressStyleModel",
          "model_module_version": "1.5.0",
          "state": {
            "_model_module": "@jupyter-widgets/controls",
            "_model_module_version": "1.5.0",
            "_model_name": "ProgressStyleModel",
            "_view_count": null,
            "_view_module": "@jupyter-widgets/base",
            "_view_module_version": "1.2.0",
            "_view_name": "StyleView",
            "bar_color": null,
            "description_width": ""
          }
        },
        "18dbe2e2f22340708eda89e50f3624a0": {
          "model_module": "@jupyter-widgets/base",
          "model_name": "LayoutModel",
          "model_module_version": "1.2.0",
          "state": {
            "_model_module": "@jupyter-widgets/base",
            "_model_module_version": "1.2.0",
            "_model_name": "LayoutModel",
            "_view_count": null,
            "_view_module": "@jupyter-widgets/base",
            "_view_module_version": "1.2.0",
            "_view_name": "LayoutView",
            "align_content": null,
            "align_items": null,
            "align_self": null,
            "border": null,
            "bottom": null,
            "display": null,
            "flex": null,
            "flex_flow": null,
            "grid_area": null,
            "grid_auto_columns": null,
            "grid_auto_flow": null,
            "grid_auto_rows": null,
            "grid_column": null,
            "grid_gap": null,
            "grid_row": null,
            "grid_template_areas": null,
            "grid_template_columns": null,
            "grid_template_rows": null,
            "height": null,
            "justify_content": null,
            "justify_items": null,
            "left": null,
            "margin": null,
            "max_height": null,
            "max_width": null,
            "min_height": null,
            "min_width": null,
            "object_fit": null,
            "object_position": null,
            "order": null,
            "overflow": null,
            "overflow_x": null,
            "overflow_y": null,
            "padding": null,
            "right": null,
            "top": null,
            "visibility": null,
            "width": null
          }
        },
        "496a07ab50fd43f6bc3e2eb83b5a7c89": {
          "model_module": "@jupyter-widgets/controls",
          "model_name": "DescriptionStyleModel",
          "model_module_version": "1.5.0",
          "state": {
            "_model_module": "@jupyter-widgets/controls",
            "_model_module_version": "1.5.0",
            "_model_name": "DescriptionStyleModel",
            "_view_count": null,
            "_view_module": "@jupyter-widgets/base",
            "_view_module_version": "1.2.0",
            "_view_name": "StyleView",
            "description_width": ""
          }
        },
        "a94889a278934ad48bb5c4b070e9a778": {
          "model_module": "@jupyter-widgets/controls",
          "model_name": "HBoxModel",
          "model_module_version": "1.5.0",
          "state": {
            "_dom_classes": [],
            "_model_module": "@jupyter-widgets/controls",
            "_model_module_version": "1.5.0",
            "_model_name": "HBoxModel",
            "_view_count": null,
            "_view_module": "@jupyter-widgets/controls",
            "_view_module_version": "1.5.0",
            "_view_name": "HBoxView",
            "box_style": "",
            "children": [
              "IPY_MODEL_a7b90338051d4c9f98045e91b1aaa136",
              "IPY_MODEL_59a335e3f9c847b8955fd10be4304f73",
              "IPY_MODEL_3eedc113c68f4cbe90fb317d8c0bb39c"
            ],
            "layout": "IPY_MODEL_ac069a36e45046ff92159bc6482d7a29"
          }
        },
        "a7b90338051d4c9f98045e91b1aaa136": {
          "model_module": "@jupyter-widgets/controls",
          "model_name": "HTMLModel",
          "model_module_version": "1.5.0",
          "state": {
            "_dom_classes": [],
            "_model_module": "@jupyter-widgets/controls",
            "_model_module_version": "1.5.0",
            "_model_name": "HTMLModel",
            "_view_count": null,
            "_view_module": "@jupyter-widgets/controls",
            "_view_module_version": "1.5.0",
            "_view_name": "HTMLView",
            "description": "",
            "description_tooltip": null,
            "layout": "IPY_MODEL_be94fb2e441c48f5bff6a74dc7fbfab6",
            "placeholder": "​",
            "style": "IPY_MODEL_262cc10baf244978a9e33c67edb974d4",
            "value": "100%"
          }
        },
        "59a335e3f9c847b8955fd10be4304f73": {
          "model_module": "@jupyter-widgets/controls",
          "model_name": "FloatProgressModel",
          "model_module_version": "1.5.0",
          "state": {
            "_dom_classes": [],
            "_model_module": "@jupyter-widgets/controls",
            "_model_module_version": "1.5.0",
            "_model_name": "FloatProgressModel",
            "_view_count": null,
            "_view_module": "@jupyter-widgets/controls",
            "_view_module_version": "1.5.0",
            "_view_name": "ProgressView",
            "bar_style": "success",
            "description": "",
            "description_tooltip": null,
            "layout": "IPY_MODEL_0fcc78c48e7b45c5b01c0596f7cb5cb7",
            "max": 168,
            "min": 0,
            "orientation": "horizontal",
            "style": "IPY_MODEL_6a202097cb634d2ba892eafc5207fbf5",
            "value": 168
          }
        },
        "3eedc113c68f4cbe90fb317d8c0bb39c": {
          "model_module": "@jupyter-widgets/controls",
          "model_name": "HTMLModel",
          "model_module_version": "1.5.0",
          "state": {
            "_dom_classes": [],
            "_model_module": "@jupyter-widgets/controls",
            "_model_module_version": "1.5.0",
            "_model_name": "HTMLModel",
            "_view_count": null,
            "_view_module": "@jupyter-widgets/controls",
            "_view_module_version": "1.5.0",
            "_view_name": "HTMLView",
            "description": "",
            "description_tooltip": null,
            "layout": "IPY_MODEL_7e09b31d7cad4ec4adcf47cb20fa1dd5",
            "placeholder": "​",
            "style": "IPY_MODEL_b28f7d92dd494f86a65ccaebb56a50ab",
            "value": " 168/168 [00:00&lt;00:00, 5972.56it/s]"
          }
        },
        "ac069a36e45046ff92159bc6482d7a29": {
          "model_module": "@jupyter-widgets/base",
          "model_name": "LayoutModel",
          "model_module_version": "1.2.0",
          "state": {
            "_model_module": "@jupyter-widgets/base",
            "_model_module_version": "1.2.0",
            "_model_name": "LayoutModel",
            "_view_count": null,
            "_view_module": "@jupyter-widgets/base",
            "_view_module_version": "1.2.0",
            "_view_name": "LayoutView",
            "align_content": null,
            "align_items": null,
            "align_self": null,
            "border": null,
            "bottom": null,
            "display": null,
            "flex": null,
            "flex_flow": null,
            "grid_area": null,
            "grid_auto_columns": null,
            "grid_auto_flow": null,
            "grid_auto_rows": null,
            "grid_column": null,
            "grid_gap": null,
            "grid_row": null,
            "grid_template_areas": null,
            "grid_template_columns": null,
            "grid_template_rows": null,
            "height": null,
            "justify_content": null,
            "justify_items": null,
            "left": null,
            "margin": null,
            "max_height": null,
            "max_width": null,
            "min_height": null,
            "min_width": null,
            "object_fit": null,
            "object_position": null,
            "order": null,
            "overflow": null,
            "overflow_x": null,
            "overflow_y": null,
            "padding": null,
            "right": null,
            "top": null,
            "visibility": null,
            "width": null
          }
        },
        "be94fb2e441c48f5bff6a74dc7fbfab6": {
          "model_module": "@jupyter-widgets/base",
          "model_name": "LayoutModel",
          "model_module_version": "1.2.0",
          "state": {
            "_model_module": "@jupyter-widgets/base",
            "_model_module_version": "1.2.0",
            "_model_name": "LayoutModel",
            "_view_count": null,
            "_view_module": "@jupyter-widgets/base",
            "_view_module_version": "1.2.0",
            "_view_name": "LayoutView",
            "align_content": null,
            "align_items": null,
            "align_self": null,
            "border": null,
            "bottom": null,
            "display": null,
            "flex": null,
            "flex_flow": null,
            "grid_area": null,
            "grid_auto_columns": null,
            "grid_auto_flow": null,
            "grid_auto_rows": null,
            "grid_column": null,
            "grid_gap": null,
            "grid_row": null,
            "grid_template_areas": null,
            "grid_template_columns": null,
            "grid_template_rows": null,
            "height": null,
            "justify_content": null,
            "justify_items": null,
            "left": null,
            "margin": null,
            "max_height": null,
            "max_width": null,
            "min_height": null,
            "min_width": null,
            "object_fit": null,
            "object_position": null,
            "order": null,
            "overflow": null,
            "overflow_x": null,
            "overflow_y": null,
            "padding": null,
            "right": null,
            "top": null,
            "visibility": null,
            "width": null
          }
        },
        "262cc10baf244978a9e33c67edb974d4": {
          "model_module": "@jupyter-widgets/controls",
          "model_name": "DescriptionStyleModel",
          "model_module_version": "1.5.0",
          "state": {
            "_model_module": "@jupyter-widgets/controls",
            "_model_module_version": "1.5.0",
            "_model_name": "DescriptionStyleModel",
            "_view_count": null,
            "_view_module": "@jupyter-widgets/base",
            "_view_module_version": "1.2.0",
            "_view_name": "StyleView",
            "description_width": ""
          }
        },
        "0fcc78c48e7b45c5b01c0596f7cb5cb7": {
          "model_module": "@jupyter-widgets/base",
          "model_name": "LayoutModel",
          "model_module_version": "1.2.0",
          "state": {
            "_model_module": "@jupyter-widgets/base",
            "_model_module_version": "1.2.0",
            "_model_name": "LayoutModel",
            "_view_count": null,
            "_view_module": "@jupyter-widgets/base",
            "_view_module_version": "1.2.0",
            "_view_name": "LayoutView",
            "align_content": null,
            "align_items": null,
            "align_self": null,
            "border": null,
            "bottom": null,
            "display": null,
            "flex": null,
            "flex_flow": null,
            "grid_area": null,
            "grid_auto_columns": null,
            "grid_auto_flow": null,
            "grid_auto_rows": null,
            "grid_column": null,
            "grid_gap": null,
            "grid_row": null,
            "grid_template_areas": null,
            "grid_template_columns": null,
            "grid_template_rows": null,
            "height": null,
            "justify_content": null,
            "justify_items": null,
            "left": null,
            "margin": null,
            "max_height": null,
            "max_width": null,
            "min_height": null,
            "min_width": null,
            "object_fit": null,
            "object_position": null,
            "order": null,
            "overflow": null,
            "overflow_x": null,
            "overflow_y": null,
            "padding": null,
            "right": null,
            "top": null,
            "visibility": null,
            "width": null
          }
        },
        "6a202097cb634d2ba892eafc5207fbf5": {
          "model_module": "@jupyter-widgets/controls",
          "model_name": "ProgressStyleModel",
          "model_module_version": "1.5.0",
          "state": {
            "_model_module": "@jupyter-widgets/controls",
            "_model_module_version": "1.5.0",
            "_model_name": "ProgressStyleModel",
            "_view_count": null,
            "_view_module": "@jupyter-widgets/base",
            "_view_module_version": "1.2.0",
            "_view_name": "StyleView",
            "bar_color": null,
            "description_width": ""
          }
        },
        "7e09b31d7cad4ec4adcf47cb20fa1dd5": {
          "model_module": "@jupyter-widgets/base",
          "model_name": "LayoutModel",
          "model_module_version": "1.2.0",
          "state": {
            "_model_module": "@jupyter-widgets/base",
            "_model_module_version": "1.2.0",
            "_model_name": "LayoutModel",
            "_view_count": null,
            "_view_module": "@jupyter-widgets/base",
            "_view_module_version": "1.2.0",
            "_view_name": "LayoutView",
            "align_content": null,
            "align_items": null,
            "align_self": null,
            "border": null,
            "bottom": null,
            "display": null,
            "flex": null,
            "flex_flow": null,
            "grid_area": null,
            "grid_auto_columns": null,
            "grid_auto_flow": null,
            "grid_auto_rows": null,
            "grid_column": null,
            "grid_gap": null,
            "grid_row": null,
            "grid_template_areas": null,
            "grid_template_columns": null,
            "grid_template_rows": null,
            "height": null,
            "justify_content": null,
            "justify_items": null,
            "left": null,
            "margin": null,
            "max_height": null,
            "max_width": null,
            "min_height": null,
            "min_width": null,
            "object_fit": null,
            "object_position": null,
            "order": null,
            "overflow": null,
            "overflow_x": null,
            "overflow_y": null,
            "padding": null,
            "right": null,
            "top": null,
            "visibility": null,
            "width": null
          }
        },
        "b28f7d92dd494f86a65ccaebb56a50ab": {
          "model_module": "@jupyter-widgets/controls",
          "model_name": "DescriptionStyleModel",
          "model_module_version": "1.5.0",
          "state": {
            "_model_module": "@jupyter-widgets/controls",
            "_model_module_version": "1.5.0",
            "_model_name": "DescriptionStyleModel",
            "_view_count": null,
            "_view_module": "@jupyter-widgets/base",
            "_view_module_version": "1.2.0",
            "_view_name": "StyleView",
            "description_width": ""
          }
        }
      }
    }
  },
  "nbformat": 4,
  "nbformat_minor": 0
}